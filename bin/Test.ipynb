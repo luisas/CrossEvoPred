{
 "cells": [
  {
   "attachments": {},
   "cell_type": "markdown",
   "id": "06cd0348",
   "metadata": {},
   "source": [
    "# TEST "
   ]
  },
  {
   "cell_type": "code",
   "execution_count": 1,
   "id": "405dacb9",
   "metadata": {},
   "outputs": [],
   "source": [
    "import pandas as pd\n",
    "import numpy as np\n",
    "from Bio import SeqIO\n",
    "\n",
    "fasta = \"/home/luisasantus/Desktop/crg_cluster/data/CrossEvoPred/test/chr1.fa\"\n",
    "bed = \"/home/luisasantus/Desktop/PROJECTS/CrossEvoPred/out/data/training_set/chr1_small.bed\"\n",
    "bedgraph = \"/home/luisasantus/Desktop/crg_cluster/data/CrossEvoPred/test/chr1.bedgraph\"\n",
    "binsize = 5\n",
    "\n",
    "%load_ext autoreload\n",
    "%autoreload 2"
   ]
  },
  {
   "cell_type": "code",
   "execution_count": 2,
   "id": "e7d32b76",
   "metadata": {},
   "outputs": [],
   "source": [
    "from bin.crossevopred.src.data.dataset import ExpressionDataset "
   ]
  },
  {
   "cell_type": "code",
   "execution_count": 3,
   "id": "c507fa87",
   "metadata": {},
   "outputs": [
    {
     "name": "stdout",
     "output_type": "stream",
     "text": [
      "01/02/2024 12:56:43  -  Loading data\n",
      "01/02/2024 12:56:43  -  Encoding sequences\n",
      "01/02/2024 12:56:43  -  Sequences loaded\n",
      "01/02/2024 12:56:43  -  Labels loaded\n"
     ]
    }
   ],
   "source": [
    "dataset = ExpressionDataset(bed, fasta, bedgraph, binsize)"
   ]
  },
  {
   "cell_type": "code",
   "execution_count": 4,
   "id": "a3e8cb87",
   "metadata": {},
   "outputs": [
    {
     "data": {
      "text/plain": [
       "array([[[0, 0, 0, 1, 1, 0, 0, 0, 0, 1],\n",
       "        [1, 1, 0, 0, 0, 1, 1, 1, 0, 0],\n",
       "        [0, 0, 0, 0, 0, 0, 0, 0, 0, 0],\n",
       "        [0, 0, 1, 0, 0, 0, 0, 0, 1, 0]],\n",
       "\n",
       "       [[1, 0, 0, 0, 0, 1, 1, 0, 0, 0],\n",
       "        [0, 1, 1, 1, 0, 0, 0, 1, 1, 1],\n",
       "        [0, 0, 0, 0, 0, 0, 0, 0, 0, 0],\n",
       "        [0, 0, 0, 0, 1, 0, 0, 0, 0, 0]]])"
      ]
     },
     "execution_count": 4,
     "metadata": {},
     "output_type": "execute_result"
    }
   ],
   "source": [
    "dataset.sequences"
   ]
  },
  {
   "cell_type": "code",
   "execution_count": 5,
   "id": "ecc41290",
   "metadata": {},
   "outputs": [
    {
     "data": {
      "text/plain": [
       "[[0.056968, 0.01688], [2.0, 0.0]]"
      ]
     },
     "execution_count": 5,
     "metadata": {},
     "output_type": "execute_result"
    }
   ],
   "source": [
    "dataset.labels"
   ]
  },
  {
   "cell_type": "code",
   "execution_count": 6,
   "id": "136493b0",
   "metadata": {},
   "outputs": [],
   "source": [
    "import torch\n",
    "torch.save(dataset, '/home/luisasantus/Desktop/PROJECTS/CrossEvoPred/out/test.pth')\n"
   ]
  }
 ],
 "metadata": {
  "kernelspec": {
   "display_name": "base",
   "language": "python",
   "name": "python3"
  },
  "language_info": {
   "codemirror_mode": {
    "name": "ipython",
    "version": 3
   },
   "file_extension": ".py",
   "mimetype": "text/x-python",
   "name": "python",
   "nbconvert_exporter": "python",
   "pygments_lexer": "ipython3",
   "version": "3.10.12"
  },
  "vscode": {
   "interpreter": {
    "hash": "9cb3457e621fef10ccc726cdf49c3a6d7ae9ec7c3c7d02b1814e28a4a388400d"
   }
  }
 },
 "nbformat": 4,
 "nbformat_minor": 5
}
