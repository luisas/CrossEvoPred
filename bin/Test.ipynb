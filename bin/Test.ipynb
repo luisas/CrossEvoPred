{
 "cells": [
  {
   "attachments": {},
   "cell_type": "markdown",
   "id": "06cd0348",
   "metadata": {},
   "source": [
    "# TEST "
   ]
  },
  {
   "cell_type": "code",
   "execution_count": 69,
   "id": "405dacb9",
   "metadata": {},
   "outputs": [
    {
     "name": "stdout",
     "output_type": "stream",
     "text": [
      "The autoreload extension is already loaded. To reload it, use:\n",
      "  %reload_ext autoreload\n"
     ]
    }
   ],
   "source": [
    "import pandas as pd\n",
    "import numpy as np\n",
    "from Bio import SeqIO\n",
    "\n",
    "fasta = \"/home/luisasantus/Desktop/crg_cluster/data/CrossEvoPred/test/chr1.fa\"\n",
    "bed = \"/home/luisasantus/Desktop/PROJECTS/CrossEvoPred/out/data/training_set/chr1_small.bed\"\n",
    "bedgraph = \"/home/luisasantus/Desktop/crg_cluster/data/CrossEvoPred/test/chr1.bedgraph\"\n",
    "binsize = 5\n",
    "\n",
    "%load_ext autoreload\n",
    "%autoreload 2"
   ]
  },
  {
   "cell_type": "code",
   "execution_count": 98,
   "id": "e7d32b76",
   "metadata": {},
   "outputs": [],
   "source": [
    "from crossevopred.src.data.create_dataset import ExpressionDataset "
   ]
  },
  {
   "cell_type": "code",
   "execution_count": 103,
   "id": "c507fa87",
   "metadata": {},
   "outputs": [
    {
     "name": "stdout",
     "output_type": "stream",
     "text": [
      "01/02/2024 12:50:06  -  Loading data\n",
      "01/02/2024 12:50:06  -  Encoding sequences\n",
      "01/02/2024 12:50:06  -  Sequences loaded\n",
      "01/02/2024 12:50:06  -  Labels loaded\n"
     ]
    }
   ],
   "source": [
    "dataset = ExpressionDataset(bed, fasta, bedgraph, binsize)"
   ]
  },
  {
   "cell_type": "code",
   "execution_count": 104,
   "id": "a3e8cb87",
   "metadata": {},
   "outputs": [
    {
     "data": {
      "text/plain": [
       "array([[[0, 0, 0, 1, 1, 0, 0, 0, 0, 1],\n",
       "        [1, 1, 0, 0, 0, 1, 1, 1, 0, 0],\n",
       "        [0, 0, 0, 0, 0, 0, 0, 0, 0, 0],\n",
       "        [0, 0, 1, 0, 0, 0, 0, 0, 1, 0]],\n",
       "\n",
       "       [[1, 0, 0, 0, 0, 1, 1, 0, 0, 0],\n",
       "        [0, 1, 1, 1, 0, 0, 0, 1, 1, 1],\n",
       "        [0, 0, 0, 0, 0, 0, 0, 0, 0, 0],\n",
       "        [0, 0, 0, 0, 1, 0, 0, 0, 0, 0]]])"
      ]
     },
     "execution_count": 104,
     "metadata": {},
     "output_type": "execute_result"
    }
   ],
   "source": [
    "dataset.sequences"
   ]
  },
  {
   "cell_type": "code",
   "execution_count": 109,
   "id": "ecc41290",
   "metadata": {},
   "outputs": [
    {
     "data": {
      "text/plain": [
       "<crossevopred.src.data.create_dataset.ExpressionDataset at 0x7fe1725c25f0>"
      ]
     },
     "execution_count": 109,
     "metadata": {},
     "output_type": "execute_result"
    }
   ],
   "source": [
    "dataset"
   ]
  },
  {
   "cell_type": "code",
   "execution_count": 108,
   "id": "136493b0",
   "metadata": {},
   "outputs": [
    {
     "ename": "PicklingError",
     "evalue": "Can't pickle <class 'crossevopred.src.data.create_dataset.ExpressionDataset'>: it's not the same object as crossevopred.src.data.create_dataset.ExpressionDataset",
     "output_type": "error",
     "traceback": [
      "\u001b[0;31m---------------------------------------------------------------------------\u001b[0m",
      "\u001b[0;31mPicklingError\u001b[0m                             Traceback (most recent call last)",
      "Cell \u001b[0;32mIn[108], line 2\u001b[0m\n\u001b[1;32m      1\u001b[0m \u001b[39mimport\u001b[39;00m \u001b[39mtorch\u001b[39;00m\n\u001b[0;32m----> 2\u001b[0m torch\u001b[39m.\u001b[39;49msave(dataset, \u001b[39m'\u001b[39;49m\u001b[39m/home/luisasantus/Desktop/PROJECTS/CrossEvoPred/out/expression_dataset2.pth\u001b[39;49m\u001b[39m'\u001b[39;49m)\n",
      "File \u001b[0;32m~/mambaforge/lib/python3.10/site-packages/torch/serialization.py:619\u001b[0m, in \u001b[0;36msave\u001b[0;34m(obj, f, pickle_module, pickle_protocol, _use_new_zipfile_serialization, _disable_byteorder_record)\u001b[0m\n\u001b[1;32m    617\u001b[0m \u001b[39mif\u001b[39;00m _use_new_zipfile_serialization:\n\u001b[1;32m    618\u001b[0m     \u001b[39mwith\u001b[39;00m _open_zipfile_writer(f) \u001b[39mas\u001b[39;00m opened_zipfile:\n\u001b[0;32m--> 619\u001b[0m         _save(obj, opened_zipfile, pickle_module, pickle_protocol, _disable_byteorder_record)\n\u001b[1;32m    620\u001b[0m         \u001b[39mreturn\u001b[39;00m\n\u001b[1;32m    621\u001b[0m \u001b[39melse\u001b[39;00m:\n",
      "File \u001b[0;32m~/mambaforge/lib/python3.10/site-packages/torch/serialization.py:831\u001b[0m, in \u001b[0;36m_save\u001b[0;34m(obj, zip_file, pickle_module, pickle_protocol, _disable_byteorder_record)\u001b[0m\n\u001b[1;32m    829\u001b[0m pickler \u001b[39m=\u001b[39m pickle_module\u001b[39m.\u001b[39mPickler(data_buf, protocol\u001b[39m=\u001b[39mpickle_protocol)\n\u001b[1;32m    830\u001b[0m pickler\u001b[39m.\u001b[39mpersistent_id \u001b[39m=\u001b[39m persistent_id\n\u001b[0;32m--> 831\u001b[0m pickler\u001b[39m.\u001b[39;49mdump(obj)\n\u001b[1;32m    832\u001b[0m data_value \u001b[39m=\u001b[39m data_buf\u001b[39m.\u001b[39mgetvalue()\n\u001b[1;32m    833\u001b[0m zip_file\u001b[39m.\u001b[39mwrite_record(\u001b[39m'\u001b[39m\u001b[39mdata.pkl\u001b[39m\u001b[39m'\u001b[39m, data_value, \u001b[39mlen\u001b[39m(data_value))\n",
      "\u001b[0;31mPicklingError\u001b[0m: Can't pickle <class 'crossevopred.src.data.create_dataset.ExpressionDataset'>: it's not the same object as crossevopred.src.data.create_dataset.ExpressionDataset"
     ]
    }
   ],
   "source": [
    "import torch\n",
    "torch.save(dataset, '/home/luisasantus/Desktop/PROJECTS/CrossEvoPred/out/expression_dataset2.pth')\n"
   ]
  }
 ],
 "metadata": {
  "kernelspec": {
   "display_name": "base",
   "language": "python",
   "name": "python3"
  },
  "language_info": {
   "codemirror_mode": {
    "name": "ipython",
    "version": 3
   },
   "file_extension": ".py",
   "mimetype": "text/x-python",
   "name": "python",
   "nbconvert_exporter": "python",
   "pygments_lexer": "ipython3",
   "version": "3.10.12"
  },
  "vscode": {
   "interpreter": {
    "hash": "9cb3457e621fef10ccc726cdf49c3a6d7ae9ec7c3c7d02b1814e28a4a388400d"
   }
  }
 },
 "nbformat": 4,
 "nbformat_minor": 5
}
