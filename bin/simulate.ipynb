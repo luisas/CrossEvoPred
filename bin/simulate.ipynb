{
 "cells": [
  {
   "attachments": {},
   "cell_type": "markdown",
   "id": "06cd0348",
   "metadata": {},
   "source": [
    "# TEST "
   ]
  },
  {
   "cell_type": "code",
   "execution_count": 69,
   "id": "405dacb9",
   "metadata": {},
   "outputs": [
    {
     "name": "stdout",
     "output_type": "stream",
     "text": [
      "The autoreload extension is already loaded. To reload it, use:\n",
      "  %reload_ext autoreload\n"
     ]
    }
   ],
   "source": [
    "import pandas as pd\n",
    "import numpy as np\n",
    "from Bio import SeqIO\n",
    "import torch\n",
    "from crossevopred.src.model.dummy_model import DummyModel\n",
    "from crossevopred.src.model.dummy_trainer import DummyTrainer\n",
    "from crossevopred.utils.data_processing_utils import *\n",
    "from crossevopred.src.data.dataset import ExpressionDataset\n",
    "\n",
    "%load_ext autoreload\n",
    "%autoreload 2"
   ]
  },
  {
   "cell_type": "code",
   "execution_count": 86,
   "id": "d6e96d52",
   "metadata": {},
   "outputs": [],
   "source": [
    "def window_array(arr, window_size):\n",
    "    return np.array([np.mean(arr[i:i+window_size]) for i in range(0, len(arr)-window_size+1, window_size)])\n",
    "\n",
    "# Simulate N sequences of length L. Each A +4, C+3, G+2, T+0 . \n",
    "# The output is a bed file with chr1 x y fasta_sequence [score_pos1, score_pos2, ...]\n",
    "# in the simulation I want to have sequences that are very A rich and sequences that are very T rich.\n",
    "# but still have some C and G.\n",
    "def simulate_sequences(N, L, window_size, output_bed):\n",
    "    sequences = []\n",
    "    for i in range(N):\n",
    "        sequence = np.random.choice([\"A\", \"C\", \"G\", \"T\"], L, p=[0.5, 0.25, 0.25, 0])\n",
    "        sequences.append(\"\".join(sequence))\n",
    "    for i in range(N):\n",
    "        sequence = np.random.choice([\"A\", \"C\", \"G\", \"T\"], L, p=[0, 0.25, 0.25, 0.5])\n",
    "        sequences.append(\"\".join(sequence))\n",
    "    sequences = np.array(sequences)\n",
    "    # scores are 4 for A, 3 for C, 2 for G, 0 for T\n",
    "    scores = np.array([[4 if c == \"A\" else 3 if c == \"C\" else 2 if c == \"G\" else 0 for c in sequence] for sequence in sequences])\n",
    "    scores = np.array([window_array(score, window_size) for score in scores])\n",
    "    \n",
    "    with open(output_bed, \"w\") as f:\n",
    "        for i, (sequence, score) in enumerate(zip(sequences, scores)):\n",
    "            f.write(f\"chr1 {i*10} {i*10+L} {','.join(map(str, score))} {sequence}\\n\")\n"
   ]
  },
  {
   "cell_type": "code",
   "execution_count": 87,
   "id": "e0f4ab9a",
   "metadata": {},
   "outputs": [],
   "source": [
    "# Create simulated data\n",
    "training_file = \"../simulated/simulated.bed\"\n",
    "dataset_object = \"../simulated/simulated_dataset.pt\"\n",
    "config_file = \"../bin/crossevopred/config/test_config.yaml\"\n",
    "simulate_sequences(2, 10,5, output_bed=training_file)"
   ]
  },
  {
   "cell_type": "code",
   "execution_count": 88,
   "id": "7025999f",
   "metadata": {},
   "outputs": [],
   "source": [
    "# Create simulated dataset\n",
    "dataset = ExpressionDataset(training_file)\n",
    "torch.save(dataset, dataset_object)"
   ]
  },
  {
   "cell_type": "code",
   "execution_count": 89,
   "id": "19863668",
   "metadata": {},
   "outputs": [
    {
     "ename": "RuntimeError",
     "evalue": "mat1 and mat2 shapes cannot be multiplied (1x40 and 4000x1)",
     "output_type": "error",
     "traceback": [
      "\u001b[0;31m---------------------------------------------------------------------------\u001b[0m",
      "\u001b[0;31mRuntimeError\u001b[0m                              Traceback (most recent call last)",
      "Cell \u001b[0;32mIn[89], line 6\u001b[0m\n\u001b[1;32m      4\u001b[0m trainining_datatset_loader \u001b[39m=\u001b[39m torch\u001b[39m.\u001b[39mload(dataset_object)\n\u001b[1;32m      5\u001b[0m \u001b[39m# Train the model\u001b[39;00m\n\u001b[0;32m----> 6\u001b[0m trainer\u001b[39m.\u001b[39;49mtrain(trainining_datatset_loader, config_file\u001b[39m=\u001b[39;49mconfig_file, model\u001b[39m=\u001b[39;49mmodel)\n",
      "File \u001b[0;32m~/Desktop/crg_cluster/projects/CrossEvoPred/bin/crossevopred/src/model/dummy_trainer.py:27\u001b[0m, in \u001b[0;36mDummyTrainer.train\u001b[0;34m(self, train_set, config_file, model)\u001b[0m\n\u001b[1;32m     25\u001b[0m \u001b[39mfor\u001b[39;00m epoch \u001b[39min\u001b[39;00m \u001b[39mrange\u001b[39m(config[\u001b[39m'\u001b[39m\u001b[39mepochs\u001b[39m\u001b[39m'\u001b[39m]):\n\u001b[1;32m     26\u001b[0m     message(\u001b[39mf\u001b[39m\u001b[39m\"\u001b[39m\u001b[39mEpoch \u001b[39m\u001b[39m{\u001b[39;00mepoch\u001b[39m+\u001b[39m\u001b[39m1\u001b[39m\u001b[39m}\u001b[39;00m\u001b[39m/\u001b[39m\u001b[39m{\u001b[39;00mconfig[\u001b[39m'\u001b[39m\u001b[39mepochs\u001b[39m\u001b[39m'\u001b[39m]\u001b[39m}\u001b[39;00m\u001b[39m\"\u001b[39m, verbose\u001b[39m=\u001b[39m\u001b[39mself\u001b[39m\u001b[39m.\u001b[39mverbose)\n\u001b[0;32m---> 27\u001b[0m     \u001b[39mself\u001b[39;49m\u001b[39m.\u001b[39;49mtrain_epoch(train_set, model, optimizer, loss_function)\n",
      "File \u001b[0;32m~/Desktop/crg_cluster/projects/CrossEvoPred/bin/crossevopred/src/model/training_wrapper.py:11\u001b[0m, in \u001b[0;36mTrainer.train_epoch\u001b[0;34m(self, data_loader, model, optimizer, loss_function, store_parameters)\u001b[0m\n\u001b[1;32m     10\u001b[0m \u001b[39mdef\u001b[39;00m \u001b[39mtrain_epoch\u001b[39m(\u001b[39mself\u001b[39m, data_loader, model, optimizer, loss_function, store_parameters\u001b[39m=\u001b[39m\u001b[39mFalse\u001b[39;00m):\n\u001b[0;32m---> 11\u001b[0m     \u001b[39mreturn\u001b[39;00m \u001b[39mself\u001b[39;49m\u001b[39m.\u001b[39;49mrun_epoch(data_loader, model, optimizer, loss_function, \u001b[39m'\u001b[39;49m\u001b[39mtrain\u001b[39;49m\u001b[39m'\u001b[39;49m, store_parameters\u001b[39m=\u001b[39;49mstore_parameters)\n",
      "File \u001b[0;32m~/Desktop/crg_cluster/projects/CrossEvoPred/bin/crossevopred/src/model/training_wrapper.py:31\u001b[0m, in \u001b[0;36mTrainer.run_epoch\u001b[0;34m(self, data_loader, model, optimizer, loss_function, do, store_parameters)\u001b[0m\n\u001b[1;32m     28\u001b[0m optimizer\u001b[39m.\u001b[39mzero_grad()\n\u001b[1;32m     30\u001b[0m \u001b[39m# forward pass\u001b[39;00m\n\u001b[0;32m---> 31\u001b[0m output \u001b[39m=\u001b[39m model(sequence)\n\u001b[1;32m     33\u001b[0m \u001b[39m# compute loss\u001b[39;00m\n\u001b[1;32m     34\u001b[0m current_loss \u001b[39m=\u001b[39m loss_function(output\u001b[39m.\u001b[39msqueeze(), label\u001b[39m.\u001b[39mfloat())\n",
      "File \u001b[0;32m~/mambaforge/lib/python3.10/site-packages/torch/nn/modules/module.py:1518\u001b[0m, in \u001b[0;36mModule._wrapped_call_impl\u001b[0;34m(self, *args, **kwargs)\u001b[0m\n\u001b[1;32m   1516\u001b[0m     \u001b[39mreturn\u001b[39;00m \u001b[39mself\u001b[39m\u001b[39m.\u001b[39m_compiled_call_impl(\u001b[39m*\u001b[39margs, \u001b[39m*\u001b[39m\u001b[39m*\u001b[39mkwargs)  \u001b[39m# type: ignore[misc]\u001b[39;00m\n\u001b[1;32m   1517\u001b[0m \u001b[39melse\u001b[39;00m:\n\u001b[0;32m-> 1518\u001b[0m     \u001b[39mreturn\u001b[39;00m \u001b[39mself\u001b[39;49m\u001b[39m.\u001b[39;49m_call_impl(\u001b[39m*\u001b[39;49margs, \u001b[39m*\u001b[39;49m\u001b[39m*\u001b[39;49mkwargs)\n",
      "File \u001b[0;32m~/mambaforge/lib/python3.10/site-packages/torch/nn/modules/module.py:1527\u001b[0m, in \u001b[0;36mModule._call_impl\u001b[0;34m(self, *args, **kwargs)\u001b[0m\n\u001b[1;32m   1522\u001b[0m \u001b[39m# If we don't have any hooks, we want to skip the rest of the logic in\u001b[39;00m\n\u001b[1;32m   1523\u001b[0m \u001b[39m# this function, and just call forward.\u001b[39;00m\n\u001b[1;32m   1524\u001b[0m \u001b[39mif\u001b[39;00m \u001b[39mnot\u001b[39;00m (\u001b[39mself\u001b[39m\u001b[39m.\u001b[39m_backward_hooks \u001b[39mor\u001b[39;00m \u001b[39mself\u001b[39m\u001b[39m.\u001b[39m_backward_pre_hooks \u001b[39mor\u001b[39;00m \u001b[39mself\u001b[39m\u001b[39m.\u001b[39m_forward_hooks \u001b[39mor\u001b[39;00m \u001b[39mself\u001b[39m\u001b[39m.\u001b[39m_forward_pre_hooks\n\u001b[1;32m   1525\u001b[0m         \u001b[39mor\u001b[39;00m _global_backward_pre_hooks \u001b[39mor\u001b[39;00m _global_backward_hooks\n\u001b[1;32m   1526\u001b[0m         \u001b[39mor\u001b[39;00m _global_forward_hooks \u001b[39mor\u001b[39;00m _global_forward_pre_hooks):\n\u001b[0;32m-> 1527\u001b[0m     \u001b[39mreturn\u001b[39;00m forward_call(\u001b[39m*\u001b[39;49margs, \u001b[39m*\u001b[39;49m\u001b[39m*\u001b[39;49mkwargs)\n\u001b[1;32m   1529\u001b[0m \u001b[39mtry\u001b[39;00m:\n\u001b[1;32m   1530\u001b[0m     result \u001b[39m=\u001b[39m \u001b[39mNone\u001b[39;00m\n",
      "File \u001b[0;32m~/Desktop/crg_cluster/projects/CrossEvoPred/bin/crossevopred/src/model/dummy_model.py:20\u001b[0m, in \u001b[0;36mDummyModel.forward\u001b[0;34m(self, x)\u001b[0m\n\u001b[1;32m     19\u001b[0m \u001b[39mdef\u001b[39;00m \u001b[39mforward\u001b[39m(\u001b[39mself\u001b[39m, x):\n\u001b[0;32m---> 20\u001b[0m     x \u001b[39m=\u001b[39m swish(\u001b[39mself\u001b[39;49m\u001b[39m.\u001b[39;49mfc1(x))\n\u001b[1;32m     21\u001b[0m     \u001b[39mreturn\u001b[39;00m torch\u001b[39m.\u001b[39mnan_to_num(x)\n",
      "File \u001b[0;32m~/mambaforge/lib/python3.10/site-packages/torch/nn/modules/module.py:1518\u001b[0m, in \u001b[0;36mModule._wrapped_call_impl\u001b[0;34m(self, *args, **kwargs)\u001b[0m\n\u001b[1;32m   1516\u001b[0m     \u001b[39mreturn\u001b[39;00m \u001b[39mself\u001b[39m\u001b[39m.\u001b[39m_compiled_call_impl(\u001b[39m*\u001b[39margs, \u001b[39m*\u001b[39m\u001b[39m*\u001b[39mkwargs)  \u001b[39m# type: ignore[misc]\u001b[39;00m\n\u001b[1;32m   1517\u001b[0m \u001b[39melse\u001b[39;00m:\n\u001b[0;32m-> 1518\u001b[0m     \u001b[39mreturn\u001b[39;00m \u001b[39mself\u001b[39;49m\u001b[39m.\u001b[39;49m_call_impl(\u001b[39m*\u001b[39;49margs, \u001b[39m*\u001b[39;49m\u001b[39m*\u001b[39;49mkwargs)\n",
      "File \u001b[0;32m~/mambaforge/lib/python3.10/site-packages/torch/nn/modules/module.py:1527\u001b[0m, in \u001b[0;36mModule._call_impl\u001b[0;34m(self, *args, **kwargs)\u001b[0m\n\u001b[1;32m   1522\u001b[0m \u001b[39m# If we don't have any hooks, we want to skip the rest of the logic in\u001b[39;00m\n\u001b[1;32m   1523\u001b[0m \u001b[39m# this function, and just call forward.\u001b[39;00m\n\u001b[1;32m   1524\u001b[0m \u001b[39mif\u001b[39;00m \u001b[39mnot\u001b[39;00m (\u001b[39mself\u001b[39m\u001b[39m.\u001b[39m_backward_hooks \u001b[39mor\u001b[39;00m \u001b[39mself\u001b[39m\u001b[39m.\u001b[39m_backward_pre_hooks \u001b[39mor\u001b[39;00m \u001b[39mself\u001b[39m\u001b[39m.\u001b[39m_forward_hooks \u001b[39mor\u001b[39;00m \u001b[39mself\u001b[39m\u001b[39m.\u001b[39m_forward_pre_hooks\n\u001b[1;32m   1525\u001b[0m         \u001b[39mor\u001b[39;00m _global_backward_pre_hooks \u001b[39mor\u001b[39;00m _global_backward_hooks\n\u001b[1;32m   1526\u001b[0m         \u001b[39mor\u001b[39;00m _global_forward_hooks \u001b[39mor\u001b[39;00m _global_forward_pre_hooks):\n\u001b[0;32m-> 1527\u001b[0m     \u001b[39mreturn\u001b[39;00m forward_call(\u001b[39m*\u001b[39;49margs, \u001b[39m*\u001b[39;49m\u001b[39m*\u001b[39;49mkwargs)\n\u001b[1;32m   1529\u001b[0m \u001b[39mtry\u001b[39;00m:\n\u001b[1;32m   1530\u001b[0m     result \u001b[39m=\u001b[39m \u001b[39mNone\u001b[39;00m\n",
      "File \u001b[0;32m~/mambaforge/lib/python3.10/site-packages/torch/nn/modules/linear.py:114\u001b[0m, in \u001b[0;36mLinear.forward\u001b[0;34m(self, input)\u001b[0m\n\u001b[1;32m    113\u001b[0m \u001b[39mdef\u001b[39;00m \u001b[39mforward\u001b[39m(\u001b[39mself\u001b[39m, \u001b[39minput\u001b[39m: Tensor) \u001b[39m-\u001b[39m\u001b[39m>\u001b[39m Tensor:\n\u001b[0;32m--> 114\u001b[0m     \u001b[39mreturn\u001b[39;00m F\u001b[39m.\u001b[39;49mlinear(\u001b[39minput\u001b[39;49m, \u001b[39mself\u001b[39;49m\u001b[39m.\u001b[39;49mweight, \u001b[39mself\u001b[39;49m\u001b[39m.\u001b[39;49mbias)\n",
      "\u001b[0;31mRuntimeError\u001b[0m: mat1 and mat2 shapes cannot be multiplied (1x40 and 4000x1)"
     ]
    }
   ],
   "source": [
    "# retrain model \n",
    "model   = DummyModel()\n",
    "trainer = DummyTrainer()\n",
    "trainining_datatset_loader = torch.load(dataset_object)\n",
    "# Train the model\n",
    "trainer.train(trainining_datatset_loader, config_file=config_file, model=model)"
   ]
  }
 ],
 "metadata": {
  "kernelspec": {
   "display_name": "base",
   "language": "python",
   "name": "python3"
  },
  "language_info": {
   "codemirror_mode": {
    "name": "ipython",
    "version": 3
   },
   "file_extension": ".py",
   "mimetype": "text/x-python",
   "name": "python",
   "nbconvert_exporter": "python",
   "pygments_lexer": "ipython3",
   "version": "3.10.12"
  },
  "vscode": {
   "interpreter": {
    "hash": "9cb3457e621fef10ccc726cdf49c3a6d7ae9ec7c3c7d02b1814e28a4a388400d"
   }
  }
 },
 "nbformat": 4,
 "nbformat_minor": 5
}
