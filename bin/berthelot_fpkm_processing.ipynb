{
 "cells": [
  {
   "attachments": {},
   "cell_type": "markdown",
   "id": "06cd0348",
   "metadata": {},
   "source": [
    "# Filter Berthelot FPKM "
   ]
  },
  {
   "cell_type": "code",
   "execution_count": 3,
   "id": "405dacb9",
   "metadata": {},
   "outputs": [],
   "source": [
    "import pandas as pd\n",
    "%load_ext autoreload\n",
    "%autoreload 2"
   ]
  },
  {
   "cell_type": "code",
   "execution_count": 42,
   "id": "248456b7",
   "metadata": {},
   "outputs": [],
   "source": [
    "hsa_fpkms = pd.read_csv('/home/luisasantus/Desktop/crg_cluster/data/CrossEvoPred/berthelot/fpkm/do3239_unk_liver_unk_hsa-hg19Homo_sapiensCRI3_CRI01_20M.tophat.cufflinks_genes.fpkm', sep = \"\\t\")\n",
    "# calculate locus length and save it in length column\n",
    "hsa_fpkms[\"start\"] = hsa_fpkms[\"locus\"].str.split(\"-\").str[0].str.split(\":\").str[1].astype(int)\n",
    "hsa_fpkms[\"end\"] = hsa_fpkms[\"locus\"].str.split(\"-\").str[1].astype(int)\n",
    "hsa_fpkms['length'] = hsa_fpkms['end'] - hsa_fpkms['start']\n",
    "#median_threshold = hsa_fpkms['length'].median()\n",
    "median_threshold = 2760\n",
    "hsa_fpkms = hsa_fpkms[hsa_fpkms['length'] > median_threshold]\n",
    "# now for every entry, modify locus end to start + median\n",
    "hsa_fpkms['end'] = hsa_fpkms['start'] + median_threshold\n",
    "hsa_fpkms['locus'] = hsa_fpkms['locus'].str.split(\":\").str[0] + \":\" + hsa_fpkms['start'].astype(str) + \"-\" + hsa_fpkms['end'].astype(str)\n",
    "hsa_fpkms['length'] = hsa_fpkms['end'] - hsa_fpkms['start']\n",
    "hsa_fpkms.to_csv('/home/luisasantus/Desktop/crg_cluster/data/CrossEvoPred/berthelot/fpkm_processed/do3239_unk_liver_unk_hsa-hg19Homo_sapiensCRI3_CRI01_20M.tophat.cufflinks_genes.fpkm', sep = \"\\t\", index = False)"
   ]
  }
 ],
 "metadata": {
  "kernelspec": {
   "display_name": "base",
   "language": "python",
   "name": "python3"
  },
  "language_info": {
   "codemirror_mode": {
    "name": "ipython",
    "version": 3
   },
   "file_extension": ".py",
   "mimetype": "text/x-python",
   "name": "python",
   "nbconvert_exporter": "python",
   "pygments_lexer": "ipython3",
   "version": "3.8.10"
  },
  "vscode": {
   "interpreter": {
    "hash": "9cb3457e621fef10ccc726cdf49c3a6d7ae9ec7c3c7d02b1814e28a4a388400d"
   }
  }
 },
 "nbformat": 4,
 "nbformat_minor": 5
}
